{
  "nbformat": 4,
  "nbformat_minor": 0,
  "metadata": {
    "colab": {
      "provenance": []
    },
    "kernelspec": {
      "name": "python3",
      "display_name": "Python 3"
    },
    "language_info": {
      "name": "python"
    }
  },
  "cells": [
    {
      "cell_type": "code",
      "execution_count": 173,
      "metadata": {
        "id": "DI7i8KIafqDz"
      },
      "outputs": [],
      "source": [
        "import pandas as pd\n",
        "import numpy as np\n",
        "from sklearn.model_selection import train_test_split\n",
        "import tensorflow as tf\n",
        "from tensorflow.keras.preprocessing.text import one_hot\n",
        "from tensorflow.keras.preprocessing.sequence import pad_sequences\n",
        "from tensorflow.keras.layers import Embedding\n",
        "from tensorflow.keras.models import Sequential\n",
        "from tensorflow.keras.layers import LSTM\n",
        "from tensorflow.keras.layers import Dense\n",
        "from sklearn.metrics import confusion_matrix"
      ]
    },
    {
      "cell_type": "code",
      "source": [
        "import nltk\n",
        "import re\n",
        "from nltk.corpus import stopwords\n",
        "nltk.download('stopwords')"
      ],
      "metadata": {
        "colab": {
          "base_uri": "https://localhost:8080/"
        },
        "id": "xUUKdjYjnZXw",
        "outputId": "0fdc1d56-ddc6-4439-8bca-934db9548224"
      },
      "execution_count": 80,
      "outputs": [
        {
          "output_type": "stream",
          "name": "stderr",
          "text": [
            "[nltk_data] Downloading package stopwords to /root/nltk_data...\n",
            "[nltk_data]   Package stopwords is already up-to-date!\n"
          ]
        },
        {
          "output_type": "execute_result",
          "data": {
            "text/plain": [
              "True"
            ]
          },
          "metadata": {},
          "execution_count": 80
        }
      ]
    },
    {
      "cell_type": "code",
      "source": [
        "df = pd.read_csv('/content/WELFake_Dataset.csv', on_bad_lines='skip', engine=\"python\")"
      ],
      "metadata": {
        "id": "Csqu5XV_gE72"
      },
      "execution_count": 147,
      "outputs": []
    },
    {
      "cell_type": "code",
      "source": [
        "df.head()"
      ],
      "metadata": {
        "colab": {
          "base_uri": "https://localhost:8080/",
          "height": 206
        },
        "id": "u5YEPrjCkhhi",
        "outputId": "7188beb8-b545-483f-9e97-82fc8ab92c24"
      },
      "execution_count": 148,
      "outputs": [
        {
          "output_type": "execute_result",
          "data": {
            "text/plain": [
              "  Unnamed: 0                                              title  \\\n",
              "0          0  LAW ENFORCEMENT ON HIGH ALERT Following Threat...   \n",
              "1          1                                                NaN   \n",
              "2          2  UNBELIEVABLE! OBAMA’S ATTORNEY GENERAL SAYS MO...   \n",
              "3          3  Bobby Jindal, raised Hindu, uses story of Chri...   \n",
              "4          4  SATAN 2: Russia unvelis an image of its terrif...   \n",
              "\n",
              "                                                text label  \n",
              "0  No comment is expected from Barack Obama Membe...     1  \n",
              "1     Did they post their votes for Hillary already?     1  \n",
              "2   Now, most of the demonstrators gathered last ...     1  \n",
              "3  A dozen politically active pastors came here f...     0  \n",
              "4  The RS-28 Sarmat missile, dubbed Satan 2, will...     1  "
            ],
            "text/html": [
              "\n",
              "  <div id=\"df-dc9e8245-96b9-4e61-8e27-a3432c2a0b5f\" class=\"colab-df-container\">\n",
              "    <div>\n",
              "<style scoped>\n",
              "    .dataframe tbody tr th:only-of-type {\n",
              "        vertical-align: middle;\n",
              "    }\n",
              "\n",
              "    .dataframe tbody tr th {\n",
              "        vertical-align: top;\n",
              "    }\n",
              "\n",
              "    .dataframe thead th {\n",
              "        text-align: right;\n",
              "    }\n",
              "</style>\n",
              "<table border=\"1\" class=\"dataframe\">\n",
              "  <thead>\n",
              "    <tr style=\"text-align: right;\">\n",
              "      <th></th>\n",
              "      <th>Unnamed: 0</th>\n",
              "      <th>title</th>\n",
              "      <th>text</th>\n",
              "      <th>label</th>\n",
              "    </tr>\n",
              "  </thead>\n",
              "  <tbody>\n",
              "    <tr>\n",
              "      <th>0</th>\n",
              "      <td>0</td>\n",
              "      <td>LAW ENFORCEMENT ON HIGH ALERT Following Threat...</td>\n",
              "      <td>No comment is expected from Barack Obama Membe...</td>\n",
              "      <td>1</td>\n",
              "    </tr>\n",
              "    <tr>\n",
              "      <th>1</th>\n",
              "      <td>1</td>\n",
              "      <td>NaN</td>\n",
              "      <td>Did they post their votes for Hillary already?</td>\n",
              "      <td>1</td>\n",
              "    </tr>\n",
              "    <tr>\n",
              "      <th>2</th>\n",
              "      <td>2</td>\n",
              "      <td>UNBELIEVABLE! OBAMA’S ATTORNEY GENERAL SAYS MO...</td>\n",
              "      <td>Now, most of the demonstrators gathered last ...</td>\n",
              "      <td>1</td>\n",
              "    </tr>\n",
              "    <tr>\n",
              "      <th>3</th>\n",
              "      <td>3</td>\n",
              "      <td>Bobby Jindal, raised Hindu, uses story of Chri...</td>\n",
              "      <td>A dozen politically active pastors came here f...</td>\n",
              "      <td>0</td>\n",
              "    </tr>\n",
              "    <tr>\n",
              "      <th>4</th>\n",
              "      <td>4</td>\n",
              "      <td>SATAN 2: Russia unvelis an image of its terrif...</td>\n",
              "      <td>The RS-28 Sarmat missile, dubbed Satan 2, will...</td>\n",
              "      <td>1</td>\n",
              "    </tr>\n",
              "  </tbody>\n",
              "</table>\n",
              "</div>\n",
              "    <div class=\"colab-df-buttons\">\n",
              "\n",
              "  <div class=\"colab-df-container\">\n",
              "    <button class=\"colab-df-convert\" onclick=\"convertToInteractive('df-dc9e8245-96b9-4e61-8e27-a3432c2a0b5f')\"\n",
              "            title=\"Convert this dataframe to an interactive table.\"\n",
              "            style=\"display:none;\">\n",
              "\n",
              "  <svg xmlns=\"http://www.w3.org/2000/svg\" height=\"24px\" viewBox=\"0 -960 960 960\">\n",
              "    <path d=\"M120-120v-720h720v720H120Zm60-500h600v-160H180v160Zm220 220h160v-160H400v160Zm0 220h160v-160H400v160ZM180-400h160v-160H180v160Zm440 0h160v-160H620v160ZM180-180h160v-160H180v160Zm440 0h160v-160H620v160Z\"/>\n",
              "  </svg>\n",
              "    </button>\n",
              "\n",
              "  <style>\n",
              "    .colab-df-container {\n",
              "      display:flex;\n",
              "      gap: 12px;\n",
              "    }\n",
              "\n",
              "    .colab-df-convert {\n",
              "      background-color: #E8F0FE;\n",
              "      border: none;\n",
              "      border-radius: 50%;\n",
              "      cursor: pointer;\n",
              "      display: none;\n",
              "      fill: #1967D2;\n",
              "      height: 32px;\n",
              "      padding: 0 0 0 0;\n",
              "      width: 32px;\n",
              "    }\n",
              "\n",
              "    .colab-df-convert:hover {\n",
              "      background-color: #E2EBFA;\n",
              "      box-shadow: 0px 1px 2px rgba(60, 64, 67, 0.3), 0px 1px 3px 1px rgba(60, 64, 67, 0.15);\n",
              "      fill: #174EA6;\n",
              "    }\n",
              "\n",
              "    .colab-df-buttons div {\n",
              "      margin-bottom: 4px;\n",
              "    }\n",
              "\n",
              "    [theme=dark] .colab-df-convert {\n",
              "      background-color: #3B4455;\n",
              "      fill: #D2E3FC;\n",
              "    }\n",
              "\n",
              "    [theme=dark] .colab-df-convert:hover {\n",
              "      background-color: #434B5C;\n",
              "      box-shadow: 0px 1px 3px 1px rgba(0, 0, 0, 0.15);\n",
              "      filter: drop-shadow(0px 1px 2px rgba(0, 0, 0, 0.3));\n",
              "      fill: #FFFFFF;\n",
              "    }\n",
              "  </style>\n",
              "\n",
              "    <script>\n",
              "      const buttonEl =\n",
              "        document.querySelector('#df-dc9e8245-96b9-4e61-8e27-a3432c2a0b5f button.colab-df-convert');\n",
              "      buttonEl.style.display =\n",
              "        google.colab.kernel.accessAllowed ? 'block' : 'none';\n",
              "\n",
              "      async function convertToInteractive(key) {\n",
              "        const element = document.querySelector('#df-dc9e8245-96b9-4e61-8e27-a3432c2a0b5f');\n",
              "        const dataTable =\n",
              "          await google.colab.kernel.invokeFunction('convertToInteractive',\n",
              "                                                    [key], {});\n",
              "        if (!dataTable) return;\n",
              "\n",
              "        const docLinkHtml = 'Like what you see? Visit the ' +\n",
              "          '<a target=\"_blank\" href=https://colab.research.google.com/notebooks/data_table.ipynb>data table notebook</a>'\n",
              "          + ' to learn more about interactive tables.';\n",
              "        element.innerHTML = '';\n",
              "        dataTable['output_type'] = 'display_data';\n",
              "        await google.colab.output.renderOutput(dataTable, element);\n",
              "        const docLink = document.createElement('div');\n",
              "        docLink.innerHTML = docLinkHtml;\n",
              "        element.appendChild(docLink);\n",
              "      }\n",
              "    </script>\n",
              "  </div>\n",
              "\n",
              "\n",
              "<div id=\"df-ee1749f2-7d15-4308-b4ab-9b5dda8e23f7\">\n",
              "  <button class=\"colab-df-quickchart\" onclick=\"quickchart('df-ee1749f2-7d15-4308-b4ab-9b5dda8e23f7')\"\n",
              "            title=\"Suggest charts\"\n",
              "            style=\"display:none;\">\n",
              "\n",
              "<svg xmlns=\"http://www.w3.org/2000/svg\" height=\"24px\"viewBox=\"0 0 24 24\"\n",
              "     width=\"24px\">\n",
              "    <g>\n",
              "        <path d=\"M19 3H5c-1.1 0-2 .9-2 2v14c0 1.1.9 2 2 2h14c1.1 0 2-.9 2-2V5c0-1.1-.9-2-2-2zM9 17H7v-7h2v7zm4 0h-2V7h2v10zm4 0h-2v-4h2v4z\"/>\n",
              "    </g>\n",
              "</svg>\n",
              "  </button>\n",
              "\n",
              "<style>\n",
              "  .colab-df-quickchart {\n",
              "      --bg-color: #E8F0FE;\n",
              "      --fill-color: #1967D2;\n",
              "      --hover-bg-color: #E2EBFA;\n",
              "      --hover-fill-color: #174EA6;\n",
              "      --disabled-fill-color: #AAA;\n",
              "      --disabled-bg-color: #DDD;\n",
              "  }\n",
              "\n",
              "  [theme=dark] .colab-df-quickchart {\n",
              "      --bg-color: #3B4455;\n",
              "      --fill-color: #D2E3FC;\n",
              "      --hover-bg-color: #434B5C;\n",
              "      --hover-fill-color: #FFFFFF;\n",
              "      --disabled-bg-color: #3B4455;\n",
              "      --disabled-fill-color: #666;\n",
              "  }\n",
              "\n",
              "  .colab-df-quickchart {\n",
              "    background-color: var(--bg-color);\n",
              "    border: none;\n",
              "    border-radius: 50%;\n",
              "    cursor: pointer;\n",
              "    display: none;\n",
              "    fill: var(--fill-color);\n",
              "    height: 32px;\n",
              "    padding: 0;\n",
              "    width: 32px;\n",
              "  }\n",
              "\n",
              "  .colab-df-quickchart:hover {\n",
              "    background-color: var(--hover-bg-color);\n",
              "    box-shadow: 0 1px 2px rgba(60, 64, 67, 0.3), 0 1px 3px 1px rgba(60, 64, 67, 0.15);\n",
              "    fill: var(--button-hover-fill-color);\n",
              "  }\n",
              "\n",
              "  .colab-df-quickchart-complete:disabled,\n",
              "  .colab-df-quickchart-complete:disabled:hover {\n",
              "    background-color: var(--disabled-bg-color);\n",
              "    fill: var(--disabled-fill-color);\n",
              "    box-shadow: none;\n",
              "  }\n",
              "\n",
              "  .colab-df-spinner {\n",
              "    border: 2px solid var(--fill-color);\n",
              "    border-color: transparent;\n",
              "    border-bottom-color: var(--fill-color);\n",
              "    animation:\n",
              "      spin 1s steps(1) infinite;\n",
              "  }\n",
              "\n",
              "  @keyframes spin {\n",
              "    0% {\n",
              "      border-color: transparent;\n",
              "      border-bottom-color: var(--fill-color);\n",
              "      border-left-color: var(--fill-color);\n",
              "    }\n",
              "    20% {\n",
              "      border-color: transparent;\n",
              "      border-left-color: var(--fill-color);\n",
              "      border-top-color: var(--fill-color);\n",
              "    }\n",
              "    30% {\n",
              "      border-color: transparent;\n",
              "      border-left-color: var(--fill-color);\n",
              "      border-top-color: var(--fill-color);\n",
              "      border-right-color: var(--fill-color);\n",
              "    }\n",
              "    40% {\n",
              "      border-color: transparent;\n",
              "      border-right-color: var(--fill-color);\n",
              "      border-top-color: var(--fill-color);\n",
              "    }\n",
              "    60% {\n",
              "      border-color: transparent;\n",
              "      border-right-color: var(--fill-color);\n",
              "    }\n",
              "    80% {\n",
              "      border-color: transparent;\n",
              "      border-right-color: var(--fill-color);\n",
              "      border-bottom-color: var(--fill-color);\n",
              "    }\n",
              "    90% {\n",
              "      border-color: transparent;\n",
              "      border-bottom-color: var(--fill-color);\n",
              "    }\n",
              "  }\n",
              "</style>\n",
              "\n",
              "  <script>\n",
              "    async function quickchart(key) {\n",
              "      const quickchartButtonEl =\n",
              "        document.querySelector('#' + key + ' button');\n",
              "      quickchartButtonEl.disabled = true;  // To prevent multiple clicks.\n",
              "      quickchartButtonEl.classList.add('colab-df-spinner');\n",
              "      try {\n",
              "        const charts = await google.colab.kernel.invokeFunction(\n",
              "            'suggestCharts', [key], {});\n",
              "      } catch (error) {\n",
              "        console.error('Error during call to suggestCharts:', error);\n",
              "      }\n",
              "      quickchartButtonEl.classList.remove('colab-df-spinner');\n",
              "      quickchartButtonEl.classList.add('colab-df-quickchart-complete');\n",
              "    }\n",
              "    (() => {\n",
              "      let quickchartButtonEl =\n",
              "        document.querySelector('#df-ee1749f2-7d15-4308-b4ab-9b5dda8e23f7 button');\n",
              "      quickchartButtonEl.style.display =\n",
              "        google.colab.kernel.accessAllowed ? 'block' : 'none';\n",
              "    })();\n",
              "  </script>\n",
              "</div>\n",
              "\n",
              "    </div>\n",
              "  </div>\n"
            ],
            "application/vnd.google.colaboratory.intrinsic+json": {
              "type": "dataframe",
              "variable_name": "df",
              "summary": "{\n  \"name\": \"df\",\n  \"rows\": 72154,\n  \"fields\": [\n    {\n      \"column\": \"Unnamed: 0\",\n      \"properties\": {\n        \"dtype\": \"string\",\n        \"num_unique_values\": 72154,\n        \"samples\": [\n          \"11542\",\n          \"57333\",\n          \"22798\"\n        ],\n        \"semantic_type\": \"\",\n        \"description\": \"\"\n      }\n    },\n    {\n      \"column\": \"title\",\n      \"properties\": {\n        \"dtype\": \"string\",\n        \"num_unique_values\": 62359,\n        \"samples\": [\n          \"RESET: Vladimir Putin Says That Russia Is Ready To Do It\\u2019s Part To Rebuild Ties With America Under Trump\",\n          \"Governor extends Flint water emergency as state approves funds\",\n          \" Expert Explains How Mike Pence Is The Worst Candidate For Women\\u2019s Rights There Has Ever Been (VIDEO)\"\n        ],\n        \"semantic_type\": \"\",\n        \"description\": \"\"\n      }\n    },\n    {\n      \"column\": \"text\",\n      \"properties\": {\n        \"dtype\": \"string\",\n        \"num_unique_values\": 62720,\n        \"samples\": [\n          \"BERLIN (Reuters) - French President Emmanuel Macron s proposed European reforms will play a big role in talks between German Chancellor Angela Merkel s conservatives to form a government with the center-left Social Democrats (SPD), a top SPD member said. German Foreign Minister Sigmar Gabriel, who led the party until stepping aside earlier this year to make way for former European Parliament president Martin Schulz, said he supported Macron s call for a separate budget for the eurozone.  We should be ready to invest more in our future,  Gabriel told Germany s Funke newspaper group and the French newspaper Ouest-France in an interview published Saturday. Germany is the biggest winner of the EU and can afford to contribute more.   Gabriel said Macron s proposals to reform the European Union would be  very important  in the coalition talks, which are due to begin on Jan. 7 after Merkel failed to reach agreement with two smaller parties. He said he was enthusiastic about Macron s core idea of strengthening the EU and making it a global player. The SPD had initially hoped to go into opposition after suffering its worst election losses in the post-war era, but was persuaded to enter into negotiations with conservatives to avoid new elections. Merkel earlier this month gave her strongest endorsement of Macron s proposals, but Germany has been hamstrung in taking more decisive action on any concrete proposals until it has a new government in place. Merkel said she saw promising areas of common ground with Social Democrats on the future of Europe, and urged speedy action to work on EU reforms before the next European elections in 2019. This week she said she wants an initial coalition deal with the SPD by mid-January. Macron hopes to make progress with Germany on ideas to reform the eurozone by March, once Germany has a new coalition government in place, with the goal of agreeing a  roadmap  with all eurozone leaders by June. Gabriel also called for the EU to adopt programs that would encourage communities in poorer member states to accept more migrants by offering financial assistance.     \",\n          \"Donald Trump likes feuds. He cannot, for any reason, take criticism, so the second someone says something less than a million percent complimentary about him, Trump has to lash out. His latest target is a union leader for Carrier, the company that Trump has been boasting about all over the place because he supposedly saved bunches of jobs. However, Trump inflated the numbers, and, worst of all, left out the problematic nature of the deal, which included $7 million in tax cuts for the company in exchange for keeping the jobs in the United States.Chuck Jones, the leader of the union for the workers at that Indiana plant, said that Trump, quote,  lied his ass off, about the deal, including the number of jobs saved. Well, this led Trump to attack Jones via Twitter, and voila! A new Trump feud is born. Now, as if it weren t bad enough that Trump himself is acting like a spoiled child rather than the president-elect, Republican National Committee spokesman Sean Spicer is also joining in the dog piling on Jones. On Thursday, Spicer went on Fox News and said the following of Jones: He should be grateful for Mr. Trump and [Republican Indiana] Gov. [Mike] Pence s efforts to save those jobs. Here you have a guy that talked about Carrier and the importance of keeping jobs. He picks up the phone and closes a deal. You ve got a 1,000 people that are going to have a blessed holiday season that are not worried about jobs. They get to spend this time with family and friends knowing that they have a job with good benefits. That s something that should be celebrated. No, Trump s lies should not be celebrated, Mr. Spicer. Were SOME jobs saved? Sure. But the method by which they were saved is not a sustainable one, and it is costing Indiana taxpayers   you know, the folks Trump keeps promising to help   millions. Further, it s not Chuck Jones who lied. It s Donald Trump. Splicer insisted that it was Jones lying about Trump, though: And then you ve got a union boss that goes out and fabricates how the story went down for no reason. I think Mr. Trump is never going to sit back and let someone take a shot falsely at him without responding. This is the problem with Trump cronies and mouthpieces. They swallow every outrage, every lie, as if none of it matters. They refuse to see the very grave shortcomings of their Cheeto Jesus, and they fall in lockstep no matter how insane his behavior becomes.Look forward to four years of not just Trump acting like a whiny, narcissistic baby, but, apparently, he ll have the might of the entire GOP behind him doing the same.Featured image via Chip Somodevilla/Getty Images\",\n          \"The police in Brazil said on Saturday that they had made the first arrest in the search for more than 30 possible attackers in the gang rape of a    girl, a case that has prompted widespread outrage and vows by the federal government to combat crimes against women, news agencies reported. Brazilians reacted with shock after the May 21 assault came to light last week. Graphic photos and videos of the unconscious, naked teenager were posted on Twitter, and several men joked online about the attack. The authorities said the teenager had been raped in the S\\u00e3o Jo\\u00e3o shantytown on the west side of Rio de Janeiro as she was visiting her boyfriend, The Associated Press reported. The girl told the police that she was briefly alone with him but remembered nothing until she woke up naked the next day in another building among dozens of men who had guns. The first arrest came after the military police fanned out in search of four suspects who had been identified, the news organization Agence   reported. The police said they did not know if the boyfriend was one of the attackers, though he was being sought. The case has rocked Brazil, Latin America\\u2019s largest nation, and highlighted its   problem of violence against women. President Michel Temer promised to create a federal police unit to address crimes against women, The Associated Press reported. \\u201cIt\\u2019s absurd that in the 21st century we have to live with barbarous crimes like this,\\u201d said Mr. Temer, who also called an emergency meeting of the security ministers for each of Brazil\\u2019s states to consider   crimes. Demonstrators gathered in downtown Rio on Friday night with signs that said \\u201cMachismo kills\\u201d and \\u201cNo means no,\\u201d Agence   reported. In S\\u00e3o Paulo, protesters made a mural with messages that included \\u201cI like to wear necklines, that\\u2019s not an invitation to rape me. \\u201d The girl, in brief comments to the O Globo newspaper, said: \\u201cIt\\u2019s the stigma that hurts me the most. It is as if people are saying: \\u2018It\\u2019s her fault. She was using scanty clothes.\\u2019 I want people to know that it is not the woman\\u2019s fault. You can\\u2019t blame a robbery victim for being robbed. \\u201d At a news conference on Friday, the police said the girl had reported being raped by 33 men officials said they had been unable to confirm how many men might have taken part. Rio\\u2019s police chief, Fernando Veloso, said that if images had not been posted online, the authorities might not have learned of the attack. The Brazilian Center for Latin American Studies found that more than 92, 000 women were killed in   crimes, including rape and domestic abuse, from 1980 to 2010.\"\n        ],\n        \"semantic_type\": \"\",\n        \"description\": \"\"\n      }\n    },\n    {\n      \"column\": \"label\",\n      \"properties\": {\n        \"dtype\": \"category\",\n        \"num_unique_values\": 4,\n        \"samples\": [\n          \"0\",\n          \" \\u0437\\u0430 \\u0443\\u0447\\u0430\\u0441\\u0442\\u0438\\u0435. \\u0411\\u043b\\u0430\\u0433\\u043e\\u0434\\u0430\\u0440\\u044e \\u0432\\u0430\\u0441.\",\n          \"1\"\n        ],\n        \"semantic_type\": \"\",\n        \"description\": \"\"\n      }\n    }\n  ]\n}"
            }
          },
          "metadata": {},
          "execution_count": 148
        }
      ]
    },
    {
      "cell_type": "code",
      "source": [
        "df.shape"
      ],
      "metadata": {
        "colab": {
          "base_uri": "https://localhost:8080/"
        },
        "id": "svQs-tEJl1SW",
        "outputId": "01cba72b-4b2c-4d68-94d4-48419c30ef75"
      },
      "execution_count": 149,
      "outputs": [
        {
          "output_type": "execute_result",
          "data": {
            "text/plain": [
              "(72154, 4)"
            ]
          },
          "metadata": {},
          "execution_count": 149
        }
      ]
    },
    {
      "cell_type": "code",
      "source": [
        "df.dtypes"
      ],
      "metadata": {
        "colab": {
          "base_uri": "https://localhost:8080/"
        },
        "id": "GNhjaW184aPU",
        "outputId": "f3d4af0c-ad78-47d6-f583-3b0f565de5a2"
      },
      "execution_count": 150,
      "outputs": [
        {
          "output_type": "execute_result",
          "data": {
            "text/plain": [
              "Unnamed: 0    object\n",
              "title         object\n",
              "text          object\n",
              "label         object\n",
              "dtype: object"
            ]
          },
          "metadata": {},
          "execution_count": 150
        }
      ]
    },
    {
      "cell_type": "code",
      "source": [
        "df = df[df['label'].isin(['1', '0'])]\n",
        "df['label'] = df['label'].astype(int)"
      ],
      "metadata": {
        "id": "5b8BKAp14cQK"
      },
      "execution_count": 151,
      "outputs": []
    },
    {
      "cell_type": "code",
      "source": [
        "df.isnull().sum()"
      ],
      "metadata": {
        "colab": {
          "base_uri": "https://localhost:8080/"
        },
        "id": "47TgSZb8lWsy",
        "outputId": "8dff996c-3a3f-4e04-9104-19823577e631"
      },
      "execution_count": 152,
      "outputs": [
        {
          "output_type": "execute_result",
          "data": {
            "text/plain": [
              "Unnamed: 0      0\n",
              "title         558\n",
              "text           39\n",
              "label           0\n",
              "dtype: int64"
            ]
          },
          "metadata": {},
          "execution_count": 152
        }
      ]
    },
    {
      "cell_type": "code",
      "source": [
        "df.dropna(inplace=True)"
      ],
      "metadata": {
        "id": "wG0e-HchlzHX"
      },
      "execution_count": 153,
      "outputs": []
    },
    {
      "cell_type": "code",
      "source": [
        "X = df.drop(['label', 'Unnamed: 0'], axis=1)\n",
        "X.reset_index(inplace=True)"
      ],
      "metadata": {
        "id": "LLM6VY_Nl-1B"
      },
      "execution_count": 154,
      "outputs": []
    },
    {
      "cell_type": "code",
      "source": [
        "df['label'].unique()"
      ],
      "metadata": {
        "colab": {
          "base_uri": "https://localhost:8080/"
        },
        "id": "HjMyUxmA0xwX",
        "outputId": "95e56671-bcaf-4787-f751-e248ece4b715"
      },
      "execution_count": 155,
      "outputs": [
        {
          "output_type": "execute_result",
          "data": {
            "text/plain": [
              "array([1, 0])"
            ]
          },
          "metadata": {},
          "execution_count": 155
        }
      ]
    },
    {
      "cell_type": "code",
      "source": [
        "y = df['label']"
      ],
      "metadata": {
        "id": "ADzK_OeAmtYn"
      },
      "execution_count": 156,
      "outputs": []
    },
    {
      "cell_type": "code",
      "source": [
        "# Text Preprocessing\n",
        "\n",
        "from nltk.stem.porter import PorterStemmer\n",
        "ps = PorterStemmer()\n",
        "corpus = []\n",
        "for i in range(0,len(X)):\n",
        "  review = re.sub('[^a-zA-Z]',' ',X['title'][i])\n",
        "  review = review.lower()\n",
        "  review = review.split()\n",
        "  review = [ps.stem(word) for word in review if not word in stopwords.words('english')]\n",
        "  review = ' '.join(review)\n",
        "  corpus.append(review)\n"
      ],
      "metadata": {
        "id": "Ojm32ys7mwND"
      },
      "execution_count": 157,
      "outputs": []
    },
    {
      "cell_type": "code",
      "source": [
        "corpus[1]"
      ],
      "metadata": {
        "colab": {
          "base_uri": "https://localhost:8080/",
          "height": 36
        },
        "id": "8Rg41aB6qpRn",
        "outputId": "d2db216f-3c83-43a6-f547-086b4007f772"
      },
      "execution_count": 158,
      "outputs": [
        {
          "output_type": "execute_result",
          "data": {
            "text/plain": [
              "'unbeliev obama attorney gener say charlott rioter peac protest home state north carolina video'"
            ],
            "application/vnd.google.colaboratory.intrinsic+json": {
              "type": "string"
            }
          },
          "metadata": {},
          "execution_count": 158
        }
      ]
    },
    {
      "cell_type": "code",
      "source": [
        "# onehot representation\n",
        "voc_size = 5000 #number of unique words\n",
        "onehot_rep = [one_hot(words,voc_size)for words in corpus]"
      ],
      "metadata": {
        "id": "UbYM2IPjrsWZ"
      },
      "execution_count": 159,
      "outputs": []
    },
    {
      "cell_type": "code",
      "source": [
        "onehot_rep[1]"
      ],
      "metadata": {
        "colab": {
          "base_uri": "https://localhost:8080/"
        },
        "id": "H1C2Wj8Zs44O",
        "outputId": "c99d5ee6-a27a-47d3-cd83-9344af34ced9"
      },
      "execution_count": 160,
      "outputs": [
        {
          "output_type": "execute_result",
          "data": {
            "text/plain": [
              "[2912,\n",
              " 3711,\n",
              " 888,\n",
              " 3270,\n",
              " 1375,\n",
              " 3892,\n",
              " 1600,\n",
              " 1193,\n",
              " 510,\n",
              " 3502,\n",
              " 4184,\n",
              " 3307,\n",
              " 2910,\n",
              " 2330]"
            ]
          },
          "metadata": {},
          "execution_count": 160
        }
      ]
    },
    {
      "cell_type": "code",
      "source": [
        "# Padding\n",
        "input_len = 20\n",
        "embedded_doc = pad_sequences(onehot_rep,padding='post',maxlen=input_len)"
      ],
      "metadata": {
        "id": "3Q8P-jK9s7oK"
      },
      "execution_count": 161,
      "outputs": []
    },
    {
      "cell_type": "code",
      "source": [
        "embedded_doc[0]"
      ],
      "metadata": {
        "colab": {
          "base_uri": "https://localhost:8080/"
        },
        "id": "xLt47nXTvGoI",
        "outputId": "c9853c2b-33f7-41b1-b6b8-926fc81c1ea5"
      },
      "execution_count": 162,
      "outputs": [
        {
          "output_type": "execute_result",
          "data": {
            "text/plain": [
              "array([4497, 1999, 4821, 3279, 4892, 2228,  338, 3883,  102, 3372, 1209,\n",
              "       2330,    0,    0,    0,    0,    0,    0,    0,    0], dtype=int32)"
            ]
          },
          "metadata": {},
          "execution_count": 162
        }
      ]
    },
    {
      "cell_type": "code",
      "source": [
        "# Model Building\n",
        "model = Sequential()\n",
        "model.add(Embedding(input_dim=voc_size,output_dim=40,input_length=input_len))\n",
        "model.add(LSTM(100))\n",
        "model.add(Dense(1,activation='sigmoid'))\n",
        "model.compile(loss='binary_crossentropy',optimizer='adam',metrics=['accuracy'])\n",
        "print(model.summary())\n",
        "\n"
      ],
      "metadata": {
        "colab": {
          "base_uri": "https://localhost:8080/"
        },
        "id": "JuLUU-h3wMoM",
        "outputId": "cfa78deb-37dc-41e5-dd50-f7795292ede9"
      },
      "execution_count": 163,
      "outputs": [
        {
          "output_type": "stream",
          "name": "stdout",
          "text": [
            "Model: \"sequential_3\"\n",
            "_________________________________________________________________\n",
            " Layer (type)                Output Shape              Param #   \n",
            "=================================================================\n",
            " embedding_2 (Embedding)     (None, 20, 40)            200000    \n",
            "                                                                 \n",
            " lstm_2 (LSTM)               (None, 100)               56400     \n",
            "                                                                 \n",
            " dense_2 (Dense)             (None, 1)                 101       \n",
            "                                                                 \n",
            "=================================================================\n",
            "Total params: 256501 (1001.96 KB)\n",
            "Trainable params: 256501 (1001.96 KB)\n",
            "Non-trainable params: 0 (0.00 Byte)\n",
            "_________________________________________________________________\n",
            "None\n"
          ]
        }
      ]
    },
    {
      "cell_type": "code",
      "source": [
        "X_final = np.array(embedded_doc)\n",
        "y_final = np.array(y)"
      ],
      "metadata": {
        "id": "bNN7gYpexeIm"
      },
      "execution_count": 164,
      "outputs": []
    },
    {
      "cell_type": "code",
      "source": [
        "X_final.shape,y_final.shape"
      ],
      "metadata": {
        "colab": {
          "base_uri": "https://localhost:8080/"
        },
        "id": "J2kPlz7F3z24",
        "outputId": "2908f62d-0b51-4c44-83bc-3f0e7507991b"
      },
      "execution_count": 165,
      "outputs": [
        {
          "output_type": "execute_result",
          "data": {
            "text/plain": [
              "((71535, 20), (71535,))"
            ]
          },
          "metadata": {},
          "execution_count": 165
        }
      ]
    },
    {
      "cell_type": "code",
      "source": [
        "X_train, X_test, y_train, y_test = train_test_split(X_final, y_final, test_size=0.33, random_state=42)"
      ],
      "metadata": {
        "id": "HjG2hd8fziJn"
      },
      "execution_count": 166,
      "outputs": []
    },
    {
      "cell_type": "code",
      "source": [
        "# Model Training\n",
        "model.fit(X_train,y_train,validation_data=(X_test,y_test),epochs=10,batch_size=64)"
      ],
      "metadata": {
        "colab": {
          "base_uri": "https://localhost:8080/"
        },
        "id": "5dILWw5hznU8",
        "outputId": "08979274-04ed-46bb-f4f8-6adcd909ed4f"
      },
      "execution_count": 167,
      "outputs": [
        {
          "output_type": "stream",
          "name": "stdout",
          "text": [
            "Epoch 1/10\n",
            "749/749 [==============================] - 34s 43ms/step - loss: 0.3274 - accuracy: 0.8536 - val_loss: 0.2672 - val_accuracy: 0.8862\n",
            "Epoch 2/10\n",
            "749/749 [==============================] - 34s 45ms/step - loss: 0.2313 - accuracy: 0.9059 - val_loss: 0.2661 - val_accuracy: 0.8854\n",
            "Epoch 3/10\n",
            "749/749 [==============================] - 34s 45ms/step - loss: 0.2030 - accuracy: 0.9197 - val_loss: 0.2577 - val_accuracy: 0.8941\n",
            "Epoch 4/10\n",
            "749/749 [==============================] - 32s 42ms/step - loss: 0.1809 - accuracy: 0.9294 - val_loss: 0.2703 - val_accuracy: 0.8943\n",
            "Epoch 5/10\n",
            "749/749 [==============================] - 30s 41ms/step - loss: 0.1573 - accuracy: 0.9390 - val_loss: 0.2646 - val_accuracy: 0.8914\n",
            "Epoch 6/10\n",
            "749/749 [==============================] - 30s 40ms/step - loss: 0.1387 - accuracy: 0.9471 - val_loss: 0.3181 - val_accuracy: 0.8871\n",
            "Epoch 7/10\n",
            "749/749 [==============================] - 28s 37ms/step - loss: 0.1171 - accuracy: 0.9552 - val_loss: 0.3206 - val_accuracy: 0.8876\n",
            "Epoch 8/10\n",
            "749/749 [==============================] - 30s 40ms/step - loss: 0.0987 - accuracy: 0.9623 - val_loss: 0.3562 - val_accuracy: 0.8834\n",
            "Epoch 9/10\n",
            "749/749 [==============================] - 30s 40ms/step - loss: 0.0833 - accuracy: 0.9679 - val_loss: 0.4203 - val_accuracy: 0.8888\n",
            "Epoch 10/10\n",
            "749/749 [==============================] - 30s 40ms/step - loss: 0.0692 - accuracy: 0.9740 - val_loss: 0.4621 - val_accuracy: 0.8847\n"
          ]
        },
        {
          "output_type": "execute_result",
          "data": {
            "text/plain": [
              "<keras.src.callbacks.History at 0x781401e0a140>"
            ]
          },
          "metadata": {},
          "execution_count": 167
        }
      ]
    },
    {
      "cell_type": "code",
      "source": [
        "# Performance Metrics And Accuracy\n",
        "y_pred = model.predict(X_test)"
      ],
      "metadata": {
        "colab": {
          "base_uri": "https://localhost:8080/"
        },
        "id": "wrftMGwvztAH",
        "outputId": "46a8682d-811b-483b-b197-eb16fb9e8998"
      },
      "execution_count": 168,
      "outputs": [
        {
          "output_type": "stream",
          "name": "stdout",
          "text": [
            "738/738 [==============================] - 6s 8ms/step\n"
          ]
        }
      ]
    },
    {
      "cell_type": "code",
      "source": [
        "y_pred"
      ],
      "metadata": {
        "colab": {
          "base_uri": "https://localhost:8080/"
        },
        "id": "g5pBDOWr89lu",
        "outputId": "fdc1f0fc-bd26-4ceb-a32d-41843a422554"
      },
      "execution_count": 169,
      "outputs": [
        {
          "output_type": "execute_result",
          "data": {
            "text/plain": [
              "array([[1.6433645e-04],\n",
              "       [3.0428752e-01],\n",
              "       [9.9686199e-01],\n",
              "       ...,\n",
              "       [9.9984705e-01],\n",
              "       [9.9751365e-01],\n",
              "       [9.7766364e-01]], dtype=float32)"
            ]
          },
          "metadata": {},
          "execution_count": 169
        }
      ]
    },
    {
      "cell_type": "code",
      "source": [
        "y_pred=np.where(y_pred > 0.6, 1,0)"
      ],
      "metadata": {
        "id": "HK5GIObC8-uZ"
      },
      "execution_count": 170,
      "outputs": []
    },
    {
      "cell_type": "code",
      "source": [
        "y_pred"
      ],
      "metadata": {
        "colab": {
          "base_uri": "https://localhost:8080/"
        },
        "id": "5UueOImj9D7c",
        "outputId": "47a77b32-c6a1-440c-8586-e89dba5e9ab4"
      },
      "execution_count": 171,
      "outputs": [
        {
          "output_type": "execute_result",
          "data": {
            "text/plain": [
              "array([[0],\n",
              "       [0],\n",
              "       [1],\n",
              "       ...,\n",
              "       [1],\n",
              "       [1],\n",
              "       [1]])"
            ]
          },
          "metadata": {},
          "execution_count": 171
        }
      ]
    },
    {
      "cell_type": "code",
      "source": [
        "confusion_matrix(y_test,y_pred)"
      ],
      "metadata": {
        "colab": {
          "base_uri": "https://localhost:8080/"
        },
        "id": "5mtlb-Sq9GJl",
        "outputId": "d6fe7cc6-f5f3-4d77-b4d6-4e110c91b40d"
      },
      "execution_count": 174,
      "outputs": [
        {
          "output_type": "execute_result",
          "data": {
            "text/plain": [
              "array([[10219,  1416],\n",
              "       [ 1325, 10647]])"
            ]
          },
          "metadata": {},
          "execution_count": 174
        }
      ]
    },
    {
      "cell_type": "code",
      "source": [
        "from sklearn.metrics import accuracy_score\n",
        "accuracy_score(y_test,y_pred)"
      ],
      "metadata": {
        "colab": {
          "base_uri": "https://localhost:8080/"
        },
        "id": "ajn0Ixdc9Iyw",
        "outputId": "4f4e0861-fe0e-4a3b-f675-0e09128be750"
      },
      "execution_count": 175,
      "outputs": [
        {
          "output_type": "execute_result",
          "data": {
            "text/plain": [
              "0.8838903714999788"
            ]
          },
          "metadata": {},
          "execution_count": 175
        }
      ]
    },
    {
      "cell_type": "code",
      "source": [
        "from sklearn.metrics import classification_report\n",
        "print(classification_report(y_test,y_pred))"
      ],
      "metadata": {
        "colab": {
          "base_uri": "https://localhost:8080/"
        },
        "id": "ecRN88lV9b0I",
        "outputId": "466ae444-0249-45f6-bec5-61d3fec359b4"
      },
      "execution_count": 176,
      "outputs": [
        {
          "output_type": "stream",
          "name": "stdout",
          "text": [
            "              precision    recall  f1-score   support\n",
            "\n",
            "           0       0.89      0.88      0.88     11635\n",
            "           1       0.88      0.89      0.89     11972\n",
            "\n",
            "    accuracy                           0.88     23607\n",
            "   macro avg       0.88      0.88      0.88     23607\n",
            "weighted avg       0.88      0.88      0.88     23607\n",
            "\n"
          ]
        }
      ]
    },
    {
      "cell_type": "code",
      "source": [],
      "metadata": {
        "id": "ktN2WeQK9hnN"
      },
      "execution_count": null,
      "outputs": []
    }
  ]
}